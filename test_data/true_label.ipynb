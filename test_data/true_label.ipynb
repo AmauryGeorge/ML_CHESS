{
 "cells": [
  {
   "cell_type": "code",
   "execution_count": 25,
   "metadata": {},
   "outputs": [
    {
     "name": "stdout",
     "output_type": "stream",
     "text": [
      "      Unnamed: 0  gameId  turnNumber  number move_state  confidence      gl  \\\n",
      "1329         151       9          19      37      valid    1.000000     Res   \n",
      "1330        1508     134          23      45  autovalid    0.998003     Q54   \n",
      "1331         144       9          12      23      valid    1.000000  N?6Ngo   \n",
      "1332         570      35          15      28  autovalid    0.997610    Nxc3   \n",
      "1333         714      39          18      35  autovalid    0.941529     Qeb   \n",
      "\n",
      "         gl2    az   rk    ab prediction    id  width  height    mimetype  \\\n",
      "1329     Res   Re8  NaN   Re8        Re8   477    272     167  image/jpeg   \n",
      "1330     Q54   Qb4  Qb4   Qb4        Qb4  4965    312     178   image/png   \n",
      "1331  N?6Ngo   N96  Na6   Ng6        Nf6   463    303     192  image/jpeg   \n",
      "1332    Nxc3  NXX3  NaN  Nxc3       Nxc3  1691    505     222  image/jpeg   \n",
      "1333     Qeb   Geb  NaN  c2Oh        Qe6  1849    288     173  image/jpeg   \n",
      "\n",
      "     true_label  \n",
      "1329        Re8  \n",
      "1330        Qb4  \n",
      "1331        Ng6  \n",
      "1332        NaN  \n",
      "1333        NaN  \n"
     ]
    }
   ],
   "source": [
    "import os\n",
    "import pandas as pd\n",
    "from PIL import Image\n",
    "\n",
    "predictions = pd.read_csv('cleaned_predictions2.csv') #,gameId,turnNumber,number,move_state,confidence,gl,gl2,az,rk,ab,prediction,id,width,height,mimetype\n",
    "\n",
    "print(predictions.tail())\n",
    "# we want to create a new column called \"true_label\" that is the correct label for the image\n",
    "# make it first empty\n",
    "if 'true_label' not in predictions.columns:\n",
    "    predictions['true_label'] =  \"\"\n",
    "\n",
    "corrected=36\n",
    "ambiguous=[150, 4570, 1665, 2530, 5505, 177, 174, 160, 1856, 4985, 158, 1341, 1369, 1324, 5102, 2040, 4883, 1212, 1967, 1970, 1541, 1591]\n",
    "\n",
    "# to remove : 1720 141 2013 1241"
   ]
  },
  {
   "cell_type": "code",
   "execution_count": 26,
   "metadata": {},
   "outputs": [
    {
     "name": "stdout",
     "output_type": "stream",
     "text": [
      "1332\n",
      "is Nxc3 the correct label ? (id: 1691)\n",
      "1333\n",
      "is Qe6 the correct label ? (id: 1849)\n",
      "corrected 36 labels\n"
     ]
    }
   ],
   "source": [
    "\n",
    "# for each line, open the image and get the label\n",
    "for index, sample in predictions.iterrows():\n",
    "    if str(sample['true_label']) != \"\" and str(sample['true_label']) != \"nan\" : \n",
    "        continue\n",
    "    print(index)\n",
    "    print(f\"is {sample['prediction']} the correct label ? (id: {sample['id']})\")\n",
    "    format = 'jpe' if sample['mimetype'].split('/')[1] == 'jpeg' else sample['mimetype'].split('/')[1]\n",
    "    Image.open(f\"images/{sample['id']}.{format}\").show()\n",
    "    true_label = input(f\" {sample['prediction'] } nothing for yes, else the correct label: \")\n",
    "    if true_label == \"\":\n",
    "        true_label = sample['prediction']\n",
    "    elif true_label == \"--\":\n",
    "        ambiguous.append(sample['id'])\n",
    "        true_label = sample['prediction']\n",
    "        print(f\"ambiguous {len(ambiguous)}\")\n",
    "    else :\n",
    "        corrected += 1\n",
    "        print(f\"corrected {corrected} labels\")\n",
    "    predictions.at[index, 'true_label'] = true_label\n",
    "\n",
    "print(f\"corrected {corrected} labels\")"
   ]
  },
  {
   "cell_type": "code",
   "execution_count": null,
   "metadata": {},
   "outputs": [],
   "source": []
  },
  {
   "cell_type": "code",
   "execution_count": 27,
   "metadata": {},
   "outputs": [
    {
     "name": "stdout",
     "output_type": "stream",
     "text": [
      "   Unnamed: 0  gameId  turnNumber  number move_state  confidence    gl   gl2  \\\n",
      "0         715      39          19      36  autovalid    0.998740  QXC7  QXC7   \n",
      "1         567      35          13      25  autovalid    0.998780   Na4   Na4   \n",
      "2        1511     134          25      48  autovalid    0.998922   Nc3   Nc3   \n",
      "3         709      39          16      30      valid    0.234624     4     4   \n",
      "4         127       9           4       6  autovalid    0.999412    b7    b7   \n",
      "\n",
      "          az   rk    ab prediction    id  width  height    mimetype true_label  \n",
      "0  QXC7/Nxe4  NaN  Qxc7       Qxc7  1850    325     181  image/jpeg       Qxc7  \n",
      "1        Na4  Na4   Na4        Na4  1688    504     207  image/jpeg        Na4  \n",
      "2        NC3  Nc3   Nc3        Nc3  4968    313     179   image/png        Nc3  \n",
      "3        004  NaN     N        Qc4  1844    285     172  image/jpeg        Qc4  \n",
      "4         67   b7    b7         b7   446    274     168  image/jpeg         b7  \n",
      "[150, 4570, 1665, 2530, 5505, 177, 174, 160, 1856, 4985, 158, 1341, 1369, 1324, 5102, 2040, 4883, 1212, 1967, 1970, 1541, 1591]\n",
      "36\n"
     ]
    }
   ],
   "source": [
    "print(predictions.head())\n",
    "print(ambiguous)\n",
    "print(corrected)"
   ]
  },
  {
   "cell_type": "code",
   "execution_count": 24,
   "metadata": {},
   "outputs": [],
   "source": [
    "predictions.to_csv('cleaned_predictions2.csv', index=False)"
   ]
  },
  {
   "cell_type": "code",
   "execution_count": null,
   "metadata": {},
   "outputs": [],
   "source": []
  }
 ],
 "metadata": {
  "kernelspec": {
   "display_name": "Python 3",
   "language": "python",
   "name": "python3"
  },
  "language_info": {
   "codemirror_mode": {
    "name": "ipython",
    "version": 3
   },
   "file_extension": ".py",
   "mimetype": "text/x-python",
   "name": "python",
   "nbconvert_exporter": "python",
   "pygments_lexer": "ipython3",
   "version": "3.11.5"
  }
 },
 "nbformat": 4,
 "nbformat_minor": 2
}
