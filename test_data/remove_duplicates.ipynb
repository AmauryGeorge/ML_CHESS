{
 "cells": [
  {
   "cell_type": "code",
   "execution_count": 12,
   "metadata": {},
   "outputs": [
    {
     "name": "stdout",
     "output_type": "stream",
     "text": [
      "processing 1929\n",
      "processing 4805\n",
      "processing 4811\n",
      "processing 2005\n",
      "processing 1518\n",
      "processing 1256\n",
      "processing 1530\n",
      "images 1530.jpe and 293.jpe are the same\n",
      "processing 2039\n",
      "processing 1524\n",
      "processing 1242\n",
      "processing 4554\n",
      "processing 4540\n",
      "processing 184\n",
      "processing 4568\n",
      "processing 1376\n",
      "processing 1362\n",
      "processing 190\n",
      "processing 4583\n",
      "processing 147\n",
      "processing 1493\n",
      "images 1493.jpe and 1583.jpe are the same\n",
      "processing 153\n",
      "processing 1861\n",
      "processing 4795\n",
      "processing 4959\n",
      "processing 4781\n",
      "processing 1685\n",
      "processing 477\n",
      "processing 4965\n",
      "processing 463\n",
      "processing 1691\n",
      "processing 1849\n"
     ]
    }
   ],
   "source": [
    "import os\n",
    "import pandas as pd\n",
    "from PIL import Image,ImageChops\n",
    "\n",
    "\n",
    "predictions = pd.read_csv('cleaned_predictions2.csv')\n",
    "\n",
    "for index, sample in predictions.iterrows():\n",
    "    if index < 1305:\n",
    "        continue\n",
    "    print(f\"processing {sample['id']}\")\n",
    "    format = 'jpe' if sample['mimetype'].split('/')[1] == 'jpeg' else sample['mimetype'].split('/')[1]\n",
    "    base_image = Image.open(f\"images/{sample['id']}.{format}\").convert('RGB')\n",
    "\n",
    "    for file in os.listdir('images'):\n",
    "        if file.split('.')[0].isdigit() and int(file.split('.')[0]) != sample['id']:\n",
    "            image = Image.open(f\"images/{file}\").convert('RGB')\n",
    "            diff = ImageChops.difference(base_image, image)\n",
    "            if not diff.getbbox():\n",
    "                print(f\"images {sample['id']}.{format} and {file} are the same\")\n",
    "                os.remove(f\"images/{file}\")\n",
    "                #find the corresponding row in the predictions dataframe and drop it\n",
    "                predictions.drop(predictions[predictions['id'] == int(file.split('.')[0])].index, inplace=True)\n",
    "                predictions.to_csv('cleaned_predictions2.csv', index=False)\n",
    "                \n"
   ]
  },
  {
   "cell_type": "code",
   "execution_count": null,
   "metadata": {},
   "outputs": [],
   "source": []
  }
 ],
 "metadata": {
  "kernelspec": {
   "display_name": "Python 3",
   "language": "python",
   "name": "python3"
  },
  "language_info": {
   "codemirror_mode": {
    "name": "ipython",
    "version": 3
   },
   "file_extension": ".py",
   "mimetype": "text/x-python",
   "name": "python",
   "nbconvert_exporter": "python",
   "pygments_lexer": "ipython3",
   "version": "3.11.5"
  }
 },
 "nbformat": 4,
 "nbformat_minor": 2
}
