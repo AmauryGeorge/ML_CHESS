{
 "cells": [
  {
   "cell_type": "code",
   "execution_count": 23,
   "metadata": {},
   "outputs": [],
   "source": [
    "import os\n",
    "import pandas as pd\n",
    "#\n",
    "\n",
    "predictions = pd.read_csv('prediciton.csv') #,gameId,turnNumber,number,move_state,confidence,gl,gl2,az,rk,ab,prediction,id,width,height,mimetype\n",
    "cleaned_predictions = pd.DataFrame(columns=predictions.columns)\n",
    "# if there is a file starting with the id in the folder images, then add it to the cleaned_predictions\n",
    "i = 0\n",
    "\n",
    "for file in os.listdir('images'):\n",
    "    if file.split('.')[0].isdigit():\n",
    "        if not int(file.split('.')[0]) in predictions['id'].values:\n",
    "            print(file)\n",
    "        cleaned_predictions= pd.concat([cleaned_predictions,predictions[predictions['id'] == int(file.split('.')[0])]])\n",
    "\n",
    "cleaned_predictions.to_csv('cleaned_predictions.csv',index=False)\n",
    "\n",
    "        \n"
   ]
  }
 ],
 "metadata": {
  "kernelspec": {
   "display_name": "Python 3",
   "language": "python",
   "name": "python3"
  },
  "language_info": {
   "codemirror_mode": {
    "name": "ipython",
    "version": 3
   },
   "file_extension": ".py",
   "mimetype": "text/x-python",
   "name": "python",
   "nbconvert_exporter": "python",
   "pygments_lexer": "ipython3",
   "version": "3.11.5"
  }
 },
 "nbformat": 4,
 "nbformat_minor": 2
}
